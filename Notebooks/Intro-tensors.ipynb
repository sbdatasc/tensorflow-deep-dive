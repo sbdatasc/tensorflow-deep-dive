{
 "cells": [
  {
   "cell_type": "code",
   "execution_count": 1,
   "metadata": {
    "collapsed": true
   },
   "outputs": [
    {
     "name": "stdout",
     "output_type": "stream",
     "text": [
      "2.9.2\n"
     ]
    }
   ],
   "source": [
    "import tensorflow as tf\n",
    "print(tf.__version__)"
   ]
  },
  {
   "cell_type": "markdown",
   "source": [
    "## Creating tensors using tf.constant()"
   ],
   "metadata": {
    "collapsed": false,
    "pycharm": {
     "name": "#%% md\n"
    }
   }
  },
  {
   "cell_type": "code",
   "execution_count": 3,
   "outputs": [
    {
     "data": {
      "text/plain": "<tf.Tensor: shape=(), dtype=int32, numpy=7>"
     },
     "execution_count": 3,
     "metadata": {},
     "output_type": "execute_result"
    }
   ],
   "source": [
    "# creating tensors with tf.constant()\n",
    "scalar = tf.constant(7)\n",
    "scalar"
   ],
   "metadata": {
    "collapsed": false,
    "pycharm": {
     "name": "#%%\n"
    }
   }
  },
  {
   "cell_type": "code",
   "execution_count": 4,
   "outputs": [
    {
     "data": {
      "text/plain": "0"
     },
     "execution_count": 4,
     "metadata": {},
     "output_type": "execute_result"
    }
   ],
   "source": [
    "# check the number of dimensions of a scalar (using ndim attribute)\n",
    "scalar.ndim"
   ],
   "metadata": {
    "collapsed": false,
    "pycharm": {
     "name": "#%%\n"
    }
   }
  },
  {
   "cell_type": "code",
   "execution_count": 13,
   "outputs": [
    {
     "data": {
      "text/plain": "<tf.Tensor: shape=(6,), dtype=int32, numpy=array([1, 2, 3, 4, 5, 6], dtype=int32)>"
     },
     "execution_count": 13,
     "metadata": {},
     "output_type": "execute_result"
    }
   ],
   "source": [
    "# create a vector using tf.constant\n",
    "v1 = tf.constant([1, 2, 3, 4, 5, 6])\n",
    "v1"
   ],
   "metadata": {
    "collapsed": false,
    "pycharm": {
     "name": "#%%\n"
    }
   }
  },
  {
   "cell_type": "code",
   "execution_count": 14,
   "outputs": [
    {
     "data": {
      "text/plain": "1"
     },
     "execution_count": 14,
     "metadata": {},
     "output_type": "execute_result"
    }
   ],
   "source": [
    "v1.ndim"
   ],
   "metadata": {
    "collapsed": false,
    "pycharm": {
     "name": "#%%\n"
    }
   }
  },
  {
   "cell_type": "code",
   "execution_count": 30,
   "outputs": [
    {
     "data": {
      "text/plain": "<tf.Tensor: shape=(0,), dtype=float32, numpy=array([], dtype=float32)>"
     },
     "execution_count": 30,
     "metadata": {},
     "output_type": "execute_result"
    }
   ],
   "source": [
    "# create a vector with no elements in an array\n",
    "v2 = tf.constant([])\n",
    "v2"
   ],
   "metadata": {
    "collapsed": false,
    "pycharm": {
     "name": "#%%\n"
    }
   }
  },
  {
   "cell_type": "code",
   "execution_count": 31,
   "outputs": [
    {
     "data": {
      "text/plain": "1"
     },
     "execution_count": 31,
     "metadata": {},
     "output_type": "execute_result"
    }
   ],
   "source": [
    "v2.ndim"
   ],
   "metadata": {
    "collapsed": false,
    "pycharm": {
     "name": "#%%\n"
    }
   }
  },
  {
   "cell_type": "code",
   "execution_count": null,
   "outputs": [],
   "source": [
    "shape=(6,)"
   ],
   "metadata": {
    "collapsed": false,
    "pycharm": {
     "name": "#%%\n"
    }
   }
  },
  {
   "cell_type": "code",
   "execution_count": 24,
   "outputs": [
    {
     "data": {
      "text/plain": "<tf.Tensor: shape=(3, 3), dtype=int32, numpy=\narray([[1, 2, 3],\n       [4, 5, 6],\n       [7, 8, 9]], dtype=int32)>"
     },
     "execution_count": 24,
     "metadata": {},
     "output_type": "execute_result"
    }
   ],
   "source": [
    "# create a matrix\n",
    "m1 = tf.constant([[1, 2, 3],\n",
    "                 [4, 5, 6],\n",
    "                 [7, 8, 9]])\n",
    "m1"
   ],
   "metadata": {
    "collapsed": false,
    "pycharm": {
     "name": "#%%\n"
    }
   }
  },
  {
   "cell_type": "code",
   "execution_count": 25,
   "outputs": [
    {
     "data": {
      "text/plain": "2"
     },
     "execution_count": 25,
     "metadata": {},
     "output_type": "execute_result"
    }
   ],
   "source": [
    "m1.ndim"
   ],
   "metadata": {
    "collapsed": false,
    "pycharm": {
     "name": "#%%\n"
    }
   }
  },
  {
   "cell_type": "code",
   "execution_count": 26,
   "outputs": [
    {
     "data": {
      "text/plain": "<tf.Tensor: shape=(2, 2), dtype=float16, numpy=\narray([[1., 2.],\n       [3., 4.]], dtype=float16)>"
     },
     "execution_count": 26,
     "metadata": {},
     "output_type": "execute_result"
    }
   ],
   "source": [
    "# create a matrix with a different data type\n",
    "m2 = tf.constant([[1., 2.],\n",
    "                  [3., 4.]], dtype=tf.float16)\n",
    "m2"
   ],
   "metadata": {
    "collapsed": false,
    "pycharm": {
     "name": "#%%\n"
    }
   }
  },
  {
   "cell_type": "code",
   "execution_count": 27,
   "outputs": [
    {
     "data": {
      "text/plain": "2"
     },
     "execution_count": 27,
     "metadata": {},
     "output_type": "execute_result"
    }
   ],
   "source": [
    "m2.ndim"
   ],
   "metadata": {
    "collapsed": false,
    "pycharm": {
     "name": "#%%\n"
    }
   }
  },
  {
   "cell_type": "code",
   "execution_count": 28,
   "outputs": [
    {
     "data": {
      "text/plain": "<tf.Tensor: shape=(3, 2, 2), dtype=float32, numpy=\narray([[[ 1.,  2.],\n        [ 3.,  4.]],\n\n       [[ 5.,  6.],\n        [ 7.,  8.]],\n\n       [[10., 11.],\n        [12., 13.]]], dtype=float32)>"
     },
     "execution_count": 28,
     "metadata": {},
     "output_type": "execute_result"
    }
   ],
   "source": [
    "# create a tensor\n",
    "t1 = tf.constant([[[1., 2.], [3., 4.]],\n",
    "                   [[5., 6.], [7., 8.]],\n",
    "                  [[10., 11.], [12., 13.]]])\n",
    "t1"
   ],
   "metadata": {
    "collapsed": false,
    "pycharm": {
     "name": "#%%\n"
    }
   }
  },
  {
   "cell_type": "code",
   "execution_count": 29,
   "outputs": [
    {
     "data": {
      "text/plain": "3"
     },
     "execution_count": 29,
     "metadata": {},
     "output_type": "execute_result"
    }
   ],
   "source": [
    "t1.ndim"
   ],
   "metadata": {
    "collapsed": false,
    "pycharm": {
     "name": "#%%\n"
    }
   }
  },
  {
   "cell_type": "code",
   "execution_count": 38,
   "outputs": [
    {
     "name": "stdout",
     "output_type": "stream",
     "text": [
      "Type of every element: <dtype: 'float32'>\n",
      "Number of axes: 3\n",
      "Shape of tensor: (3, 2, 2)\n",
      "Elements along axis 0 of tensor: 3\n",
      "Elements along the last axis of tensor: 2\n",
      "Total number of elements :  12\n"
     ]
    }
   ],
   "source": [
    "# learning all about the tensor t1\n",
    "print(\"Type of every element:\", t1.dtype)\n",
    "print(\"Number of axes:\", t1.ndim)\n",
    "print(\"Shape of tensor:\", t1.shape)\n",
    "print(\"Elements along axis 0 of tensor:\", t1.shape[0])\n",
    "print(\"Elements along the last axis of tensor:\", t1.shape[-1])\n",
    "print(\"Total number of elements : \", tf.size(t1).numpy())"
   ],
   "metadata": {
    "collapsed": false,
    "pycharm": {
     "name": "#%%\n"
    }
   }
  },
  {
   "cell_type": "code",
   "execution_count": 32,
   "outputs": [
    {
     "data": {
      "text/plain": "<tf.Tensor: shape=(), dtype=int32, numpy=5>"
     },
     "execution_count": 32,
     "metadata": {},
     "output_type": "execute_result"
    }
   ],
   "source": [
    "# does tf.constant generate an immutable vector\n",
    "s2 = tf.constant(5)\n",
    "s2"
   ],
   "metadata": {
    "collapsed": false,
    "pycharm": {
     "name": "#%%\n"
    }
   }
  },
  {
   "cell_type": "code",
   "execution_count": 35,
   "outputs": [
    {
     "data": {
      "text/plain": "<tf.Tensor: shape=(), dtype=int32, numpy=6>"
     },
     "execution_count": 35,
     "metadata": {},
     "output_type": "execute_result"
    }
   ],
   "source": [
    "s2 = tf.constant(6)\n",
    "s2"
   ],
   "metadata": {
    "collapsed": false,
    "pycharm": {
     "name": "#%%\n"
    }
   }
  },
  {
   "cell_type": "code",
   "execution_count": 36,
   "outputs": [
    {
     "data": {
      "text/plain": "<tf.Tensor: shape=(3,), dtype=int32, numpy=array([1, 2, 3], dtype=int32)>"
     },
     "execution_count": 36,
     "metadata": {},
     "output_type": "execute_result"
    }
   ],
   "source": [
    "# a vector example\n",
    "v3 = tf.constant([1, 2, 3])\n",
    "v3"
   ],
   "metadata": {
    "collapsed": false,
    "pycharm": {
     "name": "#%%\n"
    }
   }
  },
  {
   "cell_type": "code",
   "execution_count": 40,
   "outputs": [
    {
     "ename": "TypeError",
     "evalue": "'tensorflow.python.framework.ops.EagerTensor' object does not support item assignment",
     "output_type": "error",
     "traceback": [
      "\u001B[0;31m---------------------------------------------------------------------------\u001B[0m",
      "\u001B[0;31mTypeError\u001B[0m                                 Traceback (most recent call last)",
      "Input \u001B[0;32mIn [40]\u001B[0m, in \u001B[0;36m<cell line: 1>\u001B[0;34m()\u001B[0m\n\u001B[0;32m----> 1\u001B[0m v3[\u001B[38;5;241m1\u001B[39m]\u001B[38;5;241m=\u001B[39m \u001B[38;5;241m5\u001B[39m\n\u001B[1;32m      2\u001B[0m v3\n",
      "\u001B[0;31mTypeError\u001B[0m: 'tensorflow.python.framework.ops.EagerTensor' object does not support item assignment"
     ]
    }
   ],
   "source": [
    "# for further analysis\n",
    "v3[1]= 5\n",
    "v3"
   ],
   "metadata": {
    "collapsed": false,
    "pycharm": {
     "name": "#%%\n"
    }
   }
  },
  {
   "cell_type": "markdown",
   "source": [
    "## Creating tensors using tf.Variable()"
   ],
   "metadata": {
    "collapsed": false,
    "pycharm": {
     "name": "#%% md\n"
    }
   }
  },
  {
   "cell_type": "code",
   "execution_count": 41,
   "outputs": [],
   "source": [
    "changeable_tensor = tf.Variable([10, 7])\n",
    "unchangeable_tensor = tf.constant([10, 7])"
   ],
   "metadata": {
    "collapsed": false,
    "pycharm": {
     "name": "#%%\n"
    }
   }
  },
  {
   "cell_type": "code",
   "execution_count": 42,
   "outputs": [
    {
     "data": {
      "text/plain": "<tf.Variable 'Variable:0' shape=(2,) dtype=int32, numpy=array([10,  7], dtype=int32)>"
     },
     "execution_count": 42,
     "metadata": {},
     "output_type": "execute_result"
    }
   ],
   "source": [
    "changeable_tensor"
   ],
   "metadata": {
    "collapsed": false,
    "pycharm": {
     "name": "#%%\n"
    }
   }
  },
  {
   "cell_type": "code",
   "execution_count": 43,
   "outputs": [
    {
     "data": {
      "text/plain": "<tf.Tensor: shape=(2,), dtype=int32, numpy=array([10,  7], dtype=int32)>"
     },
     "execution_count": 43,
     "metadata": {},
     "output_type": "execute_result"
    }
   ],
   "source": [
    "unchangeable_tensor"
   ],
   "metadata": {
    "collapsed": false,
    "pycharm": {
     "name": "#%%\n"
    }
   }
  },
  {
   "cell_type": "code",
   "execution_count": 44,
   "outputs": [
    {
     "ename": "TypeError",
     "evalue": "'ResourceVariable' object does not support item assignment",
     "output_type": "error",
     "traceback": [
      "\u001B[0;31m---------------------------------------------------------------------------\u001B[0m",
      "\u001B[0;31mTypeError\u001B[0m                                 Traceback (most recent call last)",
      "Input \u001B[0;32mIn [44]\u001B[0m, in \u001B[0;36m<cell line: 2>\u001B[0;34m()\u001B[0m\n\u001B[1;32m      1\u001B[0m \u001B[38;5;66;03m# change an element in the changeable tensor\u001B[39;00m\n\u001B[0;32m----> 2\u001B[0m changeable_tensor[\u001B[38;5;241m1\u001B[39m] \u001B[38;5;241m=\u001B[39m \u001B[38;5;241m5\u001B[39m\n",
      "\u001B[0;31mTypeError\u001B[0m: 'ResourceVariable' object does not support item assignment"
     ]
    }
   ],
   "source": [
    "# change an element in the changeable tensor\n",
    "changeable_tensor[1] = 5"
   ],
   "metadata": {
    "collapsed": false,
    "pycharm": {
     "name": "#%%\n"
    }
   }
  },
  {
   "cell_type": "code",
   "execution_count": 45,
   "outputs": [
    {
     "data": {
      "text/plain": "<tf.Variable 'Variable:0' shape=(2,) dtype=int32, numpy=array([10,  5], dtype=int32)>"
     },
     "execution_count": 45,
     "metadata": {},
     "output_type": "execute_result"
    }
   ],
   "source": [
    "# using assign function\n",
    "changeable_tensor[1].assign(5)\n",
    "changeable_tensor"
   ],
   "metadata": {
    "collapsed": false,
    "pycharm": {
     "name": "#%%\n"
    }
   }
  },
  {
   "cell_type": "code",
   "execution_count": 46,
   "outputs": [
    {
     "ename": "AttributeError",
     "evalue": "'tensorflow.python.framework.ops.EagerTensor' object has no attribute 'assign'",
     "output_type": "error",
     "traceback": [
      "\u001B[0;31m---------------------------------------------------------------------------\u001B[0m",
      "\u001B[0;31mAttributeError\u001B[0m                            Traceback (most recent call last)",
      "Input \u001B[0;32mIn [46]\u001B[0m, in \u001B[0;36m<cell line: 2>\u001B[0;34m()\u001B[0m\n\u001B[1;32m      1\u001B[0m \u001B[38;5;66;03m# applying similar method for the unchangeable tensor\u001B[39;00m\n\u001B[0;32m----> 2\u001B[0m \u001B[43munchangeable_tensor\u001B[49m\u001B[43m[\u001B[49m\u001B[38;5;241;43m1\u001B[39;49m\u001B[43m]\u001B[49m\u001B[38;5;241;43m.\u001B[39;49m\u001B[43massign\u001B[49m(\u001B[38;5;241m5\u001B[39m)\n\u001B[1;32m      3\u001B[0m unchangeable_tensor\n",
      "File \u001B[0;32m~/miniforge3/envs/tf/lib/python3.9/site-packages/tensorflow/python/framework/ops.py:446\u001B[0m, in \u001B[0;36mTensor.__getattr__\u001B[0;34m(self, name)\u001B[0m\n\u001B[1;32m    437\u001B[0m \u001B[38;5;28;01mif\u001B[39;00m name \u001B[38;5;129;01min\u001B[39;00m {\u001B[38;5;124m\"\u001B[39m\u001B[38;5;124mT\u001B[39m\u001B[38;5;124m\"\u001B[39m, \u001B[38;5;124m\"\u001B[39m\u001B[38;5;124mastype\u001B[39m\u001B[38;5;124m\"\u001B[39m, \u001B[38;5;124m\"\u001B[39m\u001B[38;5;124mravel\u001B[39m\u001B[38;5;124m\"\u001B[39m, \u001B[38;5;124m\"\u001B[39m\u001B[38;5;124mtranspose\u001B[39m\u001B[38;5;124m\"\u001B[39m, \u001B[38;5;124m\"\u001B[39m\u001B[38;5;124mreshape\u001B[39m\u001B[38;5;124m\"\u001B[39m, \u001B[38;5;124m\"\u001B[39m\u001B[38;5;124mclip\u001B[39m\u001B[38;5;124m\"\u001B[39m, \u001B[38;5;124m\"\u001B[39m\u001B[38;5;124msize\u001B[39m\u001B[38;5;124m\"\u001B[39m,\n\u001B[1;32m    438\u001B[0m             \u001B[38;5;124m\"\u001B[39m\u001B[38;5;124mtolist\u001B[39m\u001B[38;5;124m\"\u001B[39m, \u001B[38;5;124m\"\u001B[39m\u001B[38;5;124mdata\u001B[39m\u001B[38;5;124m\"\u001B[39m}:\n\u001B[1;32m    439\u001B[0m   \u001B[38;5;66;03m# TODO(wangpeng): Export the enable_numpy_behavior knob\u001B[39;00m\n\u001B[1;32m    440\u001B[0m   \u001B[38;5;28;01mraise\u001B[39;00m \u001B[38;5;167;01mAttributeError\u001B[39;00m(\n\u001B[1;32m    441\u001B[0m       \u001B[38;5;124mf\u001B[39m\u001B[38;5;124m\"\u001B[39m\u001B[38;5;132;01m{\u001B[39;00m\u001B[38;5;28mtype\u001B[39m(\u001B[38;5;28mself\u001B[39m)\u001B[38;5;241m.\u001B[39m\u001B[38;5;18m__name__\u001B[39m\u001B[38;5;132;01m}\u001B[39;00m\u001B[38;5;124m object has no attribute \u001B[39m\u001B[38;5;124m'\u001B[39m\u001B[38;5;132;01m{\u001B[39;00mname\u001B[38;5;132;01m}\u001B[39;00m\u001B[38;5;124m'\u001B[39m\u001B[38;5;124m. \u001B[39m\u001B[38;5;124m\"\u001B[39m \u001B[38;5;241m+\u001B[39m \u001B[38;5;124m\"\"\"\u001B[39m\n\u001B[1;32m    442\u001B[0m \u001B[38;5;124m    If you are looking for numpy-related methods, please run the following:\u001B[39m\n\u001B[1;32m    443\u001B[0m \u001B[38;5;124m    from tensorflow.python.ops.numpy_ops import np_config\u001B[39m\n\u001B[1;32m    444\u001B[0m \u001B[38;5;124m    np_config.enable_numpy_behavior()\u001B[39m\n\u001B[1;32m    445\u001B[0m \u001B[38;5;124m  \u001B[39m\u001B[38;5;124m\"\"\"\u001B[39m)\n\u001B[0;32m--> 446\u001B[0m \u001B[38;5;28;43mself\u001B[39;49m\u001B[38;5;241;43m.\u001B[39;49m\u001B[38;5;21;43m__getattribute__\u001B[39;49m\u001B[43m(\u001B[49m\u001B[43mname\u001B[49m\u001B[43m)\u001B[49m\n",
      "\u001B[0;31mAttributeError\u001B[0m: 'tensorflow.python.framework.ops.EagerTensor' object has no attribute 'assign'"
     ]
    }
   ],
   "source": [
    "# applying similar method for the unchangeable tensor\n",
    "unchangeable_tensor[1].assign(5)\n",
    "unchangeable_tensor"
   ],
   "metadata": {
    "collapsed": false,
    "pycharm": {
     "name": "#%%\n"
    }
   }
  },
  {
   "cell_type": "markdown",
   "source": [
    "## Creating a Random Tensor"
   ],
   "metadata": {
    "collapsed": false,
    "pycharm": {
     "name": "#%% md\n"
    }
   }
  },
  {
   "cell_type": "code",
   "execution_count": 58,
   "outputs": [
    {
     "name": "stdout",
     "output_type": "stream",
     "text": [
      "tf.Tensor(\n",
      "[-0.7565803  -0.06854702  0.07595026 -1.2573844  -0.23193763 -1.8107855\n",
      "  0.09988727 -0.50998646 -0.7535805  -0.57166284  0.1480774  -0.23362993\n",
      " -0.3522796   0.40621263 -1.0523509   1.2054597   1.6874489  -0.4462975\n",
      " -2.3410842   0.99009085 -0.0876323  -0.635568   -0.6161736  -1.9441465\n",
      " -0.48293006 -0.52447474 -1.0345329   1.3066901  -1.5184573  -0.4585211\n",
      "  0.5714663  -1.5331722   0.45331386  1.1487608  -1.2659091  -0.47450137\n",
      "  2.006022    0.28288034 -0.30288252 -1.443651    1.0034493   0.20857747\n",
      "  0.35700995  1.0648885   1.2432485  -2.2173238   0.18706243  0.6617961\n",
      "  0.01380118 -0.24827152  1.2111493  -0.7199124  -0.04082382  2.6791053\n",
      "  1.0914806   0.33149615 -0.67958915  0.44723678 -0.17811584  0.24882518\n",
      "  0.49689844  0.8259971   1.0340209  -0.24918637 -1.5780283  -0.92161775\n",
      "  0.268676    0.9418312  -0.9465717  -0.7108357   1.2995545  -0.6149066\n",
      " -1.4713507  -0.10086866  0.9603877  -1.6370124   0.17664973 -0.67038715\n",
      " -0.503455   -1.203792   -2.5255601   0.05080947  1.7212061  -0.6575125\n",
      "  0.7939443   1.3212339   0.34584793 -0.6699328   0.4604257   0.514933\n",
      " -0.06519881 -1.442522   -0.48492542 -1.8364043   0.91463274  0.5145402\n",
      "  0.5517507  -0.3741098  -0.28709963  1.5089895  -0.14833727 -1.2846565\n",
      "  0.5484313   0.10596129  0.21793836  0.7063839  -0.19219153  1.1390278\n",
      "  0.29164317  1.4531525  -0.8223833  -1.3446563  -0.7183838  -0.20373915\n",
      "  0.6291725  -0.87623316 -0.5923522   0.05643526 -0.1698349  -1.0965608\n",
      "  0.21116935 -0.41692957  0.77891093  0.39689952 -1.1513817   0.6533925\n",
      "  1.2390149   0.8852658  -0.67008066 -1.5614101   0.6786617  -1.0733451\n",
      " -0.06093803 -0.99516404  0.7279114   1.3452564   0.89255804  0.54797494\n",
      " -0.9483233  -0.14723077 -0.3514068   0.47631496  0.52696466  0.7645016\n",
      " -1.4084325  -1.8613014   1.0928144  -0.29996362 -0.7382552   1.2053189\n",
      " -0.3511434   0.13897082  0.32744762 -0.3579723   1.230323   -0.13087\n",
      " -0.44519424  0.9551449   0.24270573 -0.02293015 -0.97063404 -0.7102746\n",
      "  0.4939478   2.1883757  -0.4953925  -0.7584407   0.13736533 -0.44198883\n",
      " -0.65641224 -2.286797    0.07126775  2.3546815   2.2539537  -0.8510308\n",
      "  0.8119971   2.0856276   0.45117483 -0.90232193 -1.5350152   0.18753827\n",
      "  0.01724745  1.071573    0.32903498 -0.12147247 -0.81168556  1.0684562\n",
      "  0.03192343  0.37305453  0.67321086 -0.36336023 -0.42805162  0.16644211\n",
      "  0.71163535  0.20890734 -0.25753435 -0.59981036 -1.7857927   0.0044825\n",
      "  0.16218606 -2.2107327  -0.897285    1.17089    -0.70234615  0.5083065\n",
      "  0.00482752  2.1229115  -0.81371665 -0.4322653   0.02657839 -1.0271724\n",
      "  0.78655565  0.28071532  1.5479943  -0.62931514  1.177553    0.4957259\n",
      " -0.02589307  1.1928992   1.7263643   0.7151379  -1.0779938  -1.1893024\n",
      "  0.08200742 -0.16774543 -0.17259961 -0.5513397  -0.24820912 -0.15571186\n",
      " -0.9934515   1.4369737   1.1249138   0.77698714 -0.90112925 -0.0175216\n",
      " -0.4188493   0.29532313  0.08036723 -1.7199678  -0.6891769   0.22862972\n",
      " -0.69891334 -0.11101238 -0.44537356  0.1335287   0.12417295  0.96785086\n",
      " -0.35425642 -0.8899504   0.6247422  -0.7167875   1.2657576  -0.04759569\n",
      " -0.19674648 -0.7370393  -0.72737205 -0.76012224 -0.26312977  0.54241335\n",
      " -0.25226593  0.43689874 -1.5446119  -0.9279166   1.5999255  -0.88942885\n",
      " -2.2454505  -0.7396203  -0.2343236   0.8082244  -1.2844347  -1.278413\n",
      "  2.013582    0.7836003  -0.06117551 -0.07672564 -0.24485688  1.8566428\n",
      " -0.6776444   0.6394762   1.4985782  -1.0064988  -1.831529    0.45663303\n",
      " -0.49801934  1.6521827  -0.7326468  -0.6277212   0.23591673 -0.5297533\n",
      "  0.10415798 -1.655111    0.20270455 -0.05907418 -0.08876546 -0.2818856\n",
      " -1.2894468   0.96435696 -0.6036719  -1.071834   -1.0722276  -0.00586287\n",
      " -0.88051033 -0.32426047 -2.4847078  -0.26370478 -0.48833993  0.8617591\n",
      " -1.1694205  -0.5992111  -1.9464397   0.7705366  -1.3326514  -0.38218573\n",
      " -1.766121    1.4853729   0.15317559  0.26729542 -2.3299215   0.26317742\n",
      "  0.5479082  -0.11180725  0.82159203  0.6540846   0.08996315 -2.073694\n",
      "  0.8673864  -0.29899067 -0.9310337  -1.5828488   1.2481191  -0.6770643\n",
      "  0.0191265  -0.29333332 -0.35438988  0.07048975 -0.4882456  -0.56108433\n",
      " -0.9890895  -0.474985   -1.3177569  -1.7482879  -1.6292503   0.48826352\n",
      " -1.8867823   0.18151656  0.24483992  0.37554732  1.6184237   0.34223038\n",
      " -0.3702979  -0.99169385  0.07253284  0.2959086  -0.31781763  0.8365819\n",
      "  1.44539     0.5045312  -0.7224314  -0.09014846  0.12777153 -0.06497782\n",
      "  1.3639344   1.5162361  -0.5160658  -1.5031487   0.78185356  0.669054\n",
      "  0.5000064   0.7658164  -0.19813427  1.1101567   0.8233347   2.454505\n",
      " -0.21202633  0.6495798  -0.29113603  0.40688646 -0.25519267  0.17281583\n",
      "  2.6145976   1.8622545   0.73743194 -0.0129986   0.7771184  -0.00960819\n",
      "  0.23179719 -0.3566502   0.2631579   0.6768518   0.5565707   0.44276938\n",
      " -1.0237199   1.7124555   0.6112835   0.97992486 -0.2288657  -0.35827154\n",
      "  0.79976535 -1.2027831  -0.80555516  0.3574244   2.3378344  -0.39006013\n",
      " -0.44232062 -1.2952929   0.81038696 -1.915971    0.77674466  0.7285135\n",
      "  1.6453348  -0.62385917 -3.0093665   0.24699263 -1.2662416   1.4435335\n",
      "  1.6701231   0.80882853 -0.30762148 -0.17802097 -0.15166     0.05017854\n",
      " -0.33411473 -0.31888655 -0.9834956  -0.81987065 -0.6729547  -0.41192538\n",
      "  0.76766264  0.56652683 -0.03278295 -1.1923548  -0.9543292   0.27305996\n",
      " -0.4884917  -1.7098985   0.7963727  -1.9695035   0.9808784  -1.5287447\n",
      " -0.28718686  0.9083854   0.64412975  1.0008438  -2.6962886  -1.0752867\n",
      "  1.493164   -0.28871155  0.31284064  1.663845   -1.028107   -0.60134953\n",
      "  0.455365    0.18552932 -2.0545108  -1.7917832  -0.781357    1.7088543\n",
      " -1.3043518  -0.7714498  -1.3041753   1.5936204   0.89297235  1.5463222\n",
      " -0.8302462  -1.4948393   0.38628715 -1.2676666   0.12750275  0.12517293\n",
      "  0.3160493  -1.3636322   0.5770591   0.30280197 -3.3228774  -0.27568147\n",
      "  0.24829084 -0.90035295 -2.2462475  -0.45878425 -1.9838426   1.0531965\n",
      "  0.16383527  0.08420128 -0.35761365  0.52944607  1.0076104  -1.5559709\n",
      " -0.07964771 -0.9121828   1.4299089   1.1519113   2.4963074   0.7028313\n",
      " -0.638703    1.2545483   0.15263537 -0.38345093 -0.1335102   0.17139332\n",
      " -0.21565591 -0.06827872  0.30605847 -0.7204267   0.0638603   0.749325\n",
      "  0.87557787  1.3275943  -0.79108816  1.4859759   1.8666607   0.7533293\n",
      "  1.9076191  -0.608725    0.24848886  1.6994172  -1.5094819   0.31803966\n",
      "  1.2315764   1.2378134  -0.5333003   0.5499724   0.8250944   0.02531349\n",
      "  1.0933133  -1.0848625   0.5705757   1.4181882   0.3818096  -2.1699402\n",
      "  0.25425676 -0.4321791   1.1739746   0.34979692 -0.3643946  -3.1925747\n",
      "  0.74550235  1.6823604   1.0547173   0.43973717 -1.5463331  -0.2522205\n",
      " -1.4901395  -1.8220098  -1.3729551   1.8063134   0.53567237 -0.5886912\n",
      " -0.5933507   0.9765769  -1.0644387  -0.15964095  0.20708817 -0.88769746\n",
      " -0.4291407   1.0496043   0.85257185  0.36788857  0.5011535  -0.448121\n",
      "  0.3995735  -2.1588635  -0.16122076 -1.040813    0.44564843 -1.1353635\n",
      "  0.06766166 -0.36882195  0.74598795 -0.23114283 -1.0750333  -0.9491441\n",
      "  0.42502043 -1.3267432   0.01515209 -0.5099852  -1.6957084   0.2771412\n",
      "  0.39587766 -1.4373472  -0.7789885   0.43568256  0.51676977  0.5126531\n",
      " -1.1681564  -0.57357186 -1.0469201   1.206273    1.3070114   0.52296627\n",
      "  1.1305656  -0.36720887 -0.40844494 -0.9370698  -0.75371194 -1.7472465\n",
      " -0.26269418  0.3709909   0.05165245  0.16512105  1.155565   -0.10707551\n",
      " -1.5306779  -0.86202925 -0.16359143 -0.67677325 -0.79654586 -0.5771628\n",
      " -0.49702242  2.0209744  -0.46608835  0.9983581   0.06456684  0.45177236\n",
      "  2.1859412  -1.9792428  -0.60278213 -0.1955588  -2.2217557   0.14620116\n",
      "  1.4261069   1.2435281  -0.56973815  0.4811077  -0.88976276  0.7566213\n",
      " -0.39527828 -0.886686   -1.9314538   1.0488598  -0.68355304  1.4119853\n",
      " -0.6809848   0.66392314 -0.83051693  1.543791   -0.5432179   0.36891136\n",
      "  1.6245334  -0.9666689   1.1505979   0.50943327  0.8272026  -0.10641344\n",
      " -0.07449543 -0.39326796 -0.7901926   1.7228076   1.2089248  -1.8124938\n",
      " -0.22183064  0.11441319 -0.26636657  1.6400808  -0.976321   -1.1680746\n",
      " -0.2497501   0.98737234  0.64001775 -0.12053991 -1.2248999  -0.6170378\n",
      " -0.63352513  0.5734031  -0.2029834   0.07099114 -0.5095768   0.3482001\n",
      "  0.15985982 -1.9042184   0.9690504   0.16251186 -0.07330752 -0.360591\n",
      "  0.18739441 -0.73353654  1.2104433   1.5603006  -0.48115277  0.6335167\n",
      " -0.5612103   0.06994031  1.6807095  -1.2316035  -0.73452556  1.9862545\n",
      "  0.5880542  -1.8660324  -0.7760061   0.95657086  0.0774198   0.7541252\n",
      "  1.2174032  -0.28159192  0.18493211 -1.0208026  -0.7255705   0.27163377\n",
      "  0.65059733 -0.5761351  -1.6905216   1.2155762   0.49306154 -0.9191154\n",
      "  0.16707349  0.450621    1.3943818  -1.1448481  -2.2105272  -0.9077569\n",
      "  0.81677693 -0.35697743 -0.62204176  0.3929088  -0.06998006 -0.8189302\n",
      "  1.3991104   0.79288673  0.02700637  0.05404254 -0.7465786   0.46939567\n",
      " -1.0492374  -1.8640728  -0.11166483 -0.67028594  0.60465306  0.20219356\n",
      " -1.1641113  -1.6832137   2.0766666   0.95400566 -1.5740998  -0.38297576\n",
      "  1.2623392   0.8495842   0.99230295  0.24238716 -2.0003314  -1.1690938\n",
      "  1.2556325   2.3346927  -1.0455613   0.6760571  -1.2596191   1.1185561\n",
      " -0.66418576  1.6453402   0.5407426   0.8166653  -0.30014586 -0.84087443\n",
      "  0.8430845  -1.0322016   1.0498744   0.10989144 -0.6479687  -0.15949503\n",
      " -0.827772    1.148897   -0.64677536 -2.509177    1.3952903   0.76897824\n",
      "  0.76479703 -0.42580193  1.4824405   2.9900203  -1.4685318   0.00450404\n",
      "  1.6565344   0.6243957  -2.4371004  -0.25115213  1.3310204   1.3616577\n",
      " -0.8285553  -0.38055852  0.43401343 -2.8677838   0.8929652  -0.0708327\n",
      "  1.5803431  -1.5163175  -1.3340821  -0.34527022  1.4093482   0.09789068\n",
      "  2.083792    0.5023335  -0.41757244 -0.2853961   0.9510013   1.0610793\n",
      " -1.8425875   1.9213923  -0.58001775  0.7942241  -0.16272102 -0.94072485\n",
      " -0.72931474  2.4190352   0.31619713  1.2444433  -0.03126941 -0.7620684\n",
      "  0.7497965   1.1466546  -0.22539005  0.82792515  0.36053374  1.0116621\n",
      "  0.14296533 -1.0269865  -0.6061013  -0.35804814  0.39586878  0.960725\n",
      " -1.0215961  -0.92211574  1.3876396   0.23198044 -0.4867651  -1.3900985\n",
      "  0.30898732 -0.36006847 -2.048724    0.75642276  0.6890647  -1.0755924\n",
      "  0.11075592  0.84823394 -0.25278994  1.9206251   0.28755897 -0.5995689\n",
      " -0.96432054  0.2030316  -0.47879514 -0.673436    1.2044759  -0.09356748\n",
      "  1.529748    1.2703096   1.6677649  -0.06029034  0.64245635 -1.732084\n",
      "  1.0453987  -1.5038041  -1.5251702  -1.194034   -0.49742785 -0.79389113\n",
      "  1.2416035   1.5962636  -0.31990913  1.5207498  -1.0359411   1.5315233\n",
      "  0.51527184 -0.76588607  1.6272374   0.04138071 -0.10412996  0.79326314\n",
      " -2.2773743  -0.19333345  1.1309195  -0.5997879   0.13718261  0.03654822\n",
      "  1.0302736   0.3396786   0.3991843   0.8469337   0.08197699 -0.33114555\n",
      " -1.3255794  -0.5897642   0.32295185 -1.2957093  -0.22350197  0.14781399\n",
      " -0.27838594  0.70579576 -0.8142257  -0.5233668   0.52894944 -1.606629\n",
      " -0.06351428 -2.465845   -1.1038724   0.5590708  -0.9807223  -0.16120234\n",
      "  1.0154027   0.52378887  0.98307234  0.34288085  1.216793   -1.24293\n",
      "  0.84324265 -0.23379943  0.4276398  -1.0215694  -1.4299808   0.19492291\n",
      " -0.10816212  0.8752192   0.02671668  0.76397264  1.222406    0.46577054\n",
      "  0.22190082  0.6969936   0.88429165  0.24133337 -2.5008104   1.9122622\n",
      " -0.04614453 -0.49720773 -0.5964569  -0.28882292 -0.40181905 -0.7558858\n",
      "  0.02251886  0.30204874 -0.5317571   0.9396386  -0.38707992  0.70385563\n",
      "  1.0504125   0.3237772   0.76810354  0.5875566  -0.7856376  -1.156155\n",
      " -0.33373326 -2.3113725   0.6523717  -1.0217607  -0.35029203  0.6448506\n",
      "  0.24116515 -0.11372148 -0.4213084  -1.7177718  -0.76177126 -0.71952176\n",
      " -1.0015098   1.4955608  -1.927905   -1.4905297  -1.9865798  -0.19001041\n",
      "  0.8487627   0.82072085 -0.35690466 -1.0447663   1.446608   -0.84364986\n",
      " -0.4232375  -0.24290504 -0.60400045 -0.2972577   0.1774636   0.88809806\n",
      " -1.5011514  -0.43493605  0.05176501  2.1976366  -0.73987067 -0.3241145\n",
      "  0.6396319   1.4745843   0.21317784 -0.71089745 -0.7266791   0.26493618\n",
      " -0.2939757  -0.9795847  -1.9638627   1.049048   -2.1287222  -1.0401938\n",
      " -1.3892945   0.29629984  0.37557378 -0.21287665  0.1293281  -1.3507067\n",
      " -0.8391272   0.60401106 -1.5806351  -0.29935524  0.84522533 -0.882215\n",
      "  1.5174615  -1.3613358  -0.4253645   0.7900614 ], shape=(1000,), dtype=float32)\n"
     ]
    }
   ],
   "source": [
    "'''\n",
    "Encountered error\n",
    "NotFoundError: No registered 'RngReadAndSkip' OpKernel for 'GPU' devices compatible with node {{node RngReadAndSkip}}\n",
    "\t.  Registered:  device='CPU'\n",
    " [Op:RngReadAndSkip]\n",
    "\n",
    " As per stackoverflow\n",
    " https://stackoverflow.com/questions/69088577/apple-m1-i-got-no-registered-rngreadandskip-opkernel-for-gpu-devices-comp\n",
    "\n",
    "\n",
    " It happens because some TF/Keras high-level methods are not implemented in tensorflow-metal. You can try this workaround:\n",
    "\n",
    "with tf.device('/cpu:0'):\n",
    "    ...  # your code which need RngReadAndSkip low-level method here\n",
    "And next you can do other stuff normally (with GPU).\n",
    "\n",
    "Hope, Apple will fix it someday (and their another tons of bugs too, lmao)\n",
    "'''\n",
    "\n",
    "with tf.device('/cpu:0'):\n",
    "    random_1 = tf.random.Generator.from_seed(42)\n",
    "    random_1 = random_1.normal(shape=(1000, ), mean = 0, stddev=1.0)\n",
    "    print(random_1)"
   ],
   "metadata": {
    "collapsed": false,
    "pycharm": {
     "name": "#%%\n"
    }
   }
  },
  {
   "cell_type": "code",
   "execution_count": 59,
   "outputs": [
    {
     "data": {
      "text/plain": "[<matplotlib.lines.Line2D at 0x2e12bb3d0>]"
     },
     "execution_count": 59,
     "metadata": {},
     "output_type": "execute_result"
    },
    {
     "data": {
      "text/plain": "<Figure size 432x288 with 1 Axes>",
      "image/png": "[encoded data removed]"
     },
     "metadata": {
      "needs_background": "light"
     },
     "output_type": "display_data"
    }
   ],
   "source": [
    "import matplotlib.pyplot as plt\n",
    "plt.plot(random_1)"
   ],
   "metadata": {
    "collapsed": false,
    "pycharm": {
     "name": "#%%\n"
    }
   }
  },
  {
   "cell_type": "code",
   "execution_count": 60,
   "outputs": [
    {
     "data": {
      "text/plain": "(array([[0., 0., 0., ..., 0., 0., 0.],\n        [0., 0., 0., ..., 0., 0., 0.],\n        [0., 0., 0., ..., 0., 0., 0.],\n        ...,\n        [0., 0., 0., ..., 0., 0., 0.],\n        [0., 0., 0., ..., 0., 0., 0.],\n        [0., 0., 0., ..., 0., 0., 0.]]),\n array([-3.3228774 , -2.6915877 , -2.060298  , -1.4290081 , -0.79771835,\n        -0.16642857,  0.4648612 ,  1.096151  ,  1.7274407 ,  2.3587306 ,\n         2.9900203 ], dtype=float32),\n <a list of 1000 BarContainer objects>)"
     },
     "execution_count": 60,
     "metadata": {},
     "output_type": "execute_result"
    },
    {
     "data": {
      "text/plain": "<Figure size 432x288 with 1 Axes>",
      "image/png": "[encoded data removed]"
     },
     "metadata": {
      "needs_background": "light"
     },
     "output_type": "display_data"
    }
   ],
   "source": [
    "plt.hist(random_1, bins=10)"
   ],
   "metadata": {
    "collapsed": false,
    "pycharm": {
     "name": "#%%\n"
    }
   }
  },
  {
   "cell_type": "code",
   "execution_count": 61,
   "outputs": [
    {
     "data": {
      "text/plain": "<seaborn.axisgrid.FacetGrid at 0x178baae50>"
     },
     "execution_count": 61,
     "metadata": {},
     "output_type": "execute_result"
    },
    {
     "data": {
      "text/plain": "<Figure size 360x360 with 1 Axes>",
      "image/png": "[encoded data removed]"
     },
     "metadata": {
      "needs_background": "light"
     },
     "output_type": "display_data"
    }
   ],
   "source": [
    "import seaborn as sns\n",
    "sns.displot(random_1)"
   ],
   "metadata": {
    "collapsed": false,
    "pycharm": {
     "name": "#%%\n"
    }
   }
  },
  {
   "cell_type": "code",
   "execution_count": 62,
   "outputs": [
    {
     "data": {
      "text/plain": "<AxesSubplot:ylabel='Density'>"
     },
     "execution_count": 62,
     "metadata": {},
     "output_type": "execute_result"
    },
    {
     "data": {
      "text/plain": "<Figure size 432x288 with 1 Axes>",
      "image/png": "[encoded data removed]"
     },
     "metadata": {
      "needs_background": "light"
     },
     "output_type": "display_data"
    }
   ],
   "source": [
    "sns.kdeplot(random_1)"
   ],
   "metadata": {
    "collapsed": false,
    "pycharm": {
     "name": "#%%\n"
    }
   }
  },
  {
   "cell_type": "code",
   "execution_count": 70,
   "outputs": [
    {
     "name": "stdout",
     "output_type": "stream",
     "text": [
      "tf.Tensor(\n",
      "[[-0.7565803  -0.06854702]\n",
      " [ 0.07595026 -1.2573844 ]\n",
      " [-0.23193763 -1.8107855 ]], shape=(3, 2), dtype=float32) tf.Tensor(\n",
      "[[ 0.17522676  0.71105534]\n",
      " [ 0.54882437  0.14896014]\n",
      " [-0.54757965  0.61634356]], shape=(3, 2), dtype=float32) tf.Tensor(\n",
      "[[False False]\n",
      " [False False]\n",
      " [False False]], shape=(3, 2), dtype=bool)\n"
     ]
    }
   ],
   "source": [
    "# checking if two random tensors created using normal function are same\n",
    "with tf.device('/cpu:0'):\n",
    "    random_seed = tf.random.Generator.from_seed(42)\n",
    "    random_1 = random_seed.normal(shape=(3,2), mean = 0, stddev=1.0)\n",
    "    random_2 = random_seed.normal(shape=(3,2), mean = 0, stddev=1.0)\n",
    "    print(random_1, random_2, random_1 == random_2)"
   ],
   "metadata": {
    "collapsed": false,
    "pycharm": {
     "name": "#%%\n"
    }
   }
  },
  {
   "cell_type": "markdown",
   "source": [
    "Seems like sharing the same random generator is not deterministic and requires reseting once a random generation has occured."
   ],
   "metadata": {
    "collapsed": false,
    "pycharm": {
     "name": "#%% md\n"
    }
   }
  },
  {
   "cell_type": "code",
   "execution_count": 73,
   "outputs": [
    {
     "name": "stdout",
     "output_type": "stream",
     "text": [
      "tf.Tensor(\n",
      "[[-0.7565803  -0.06854702]\n",
      " [ 0.07595026 -1.2573844 ]\n",
      " [-0.23193763 -1.8107855 ]], shape=(3, 2), dtype=float32) tf.Tensor(\n",
      "[[-0.7565803  -0.06854702]\n",
      " [ 0.07595026 -1.2573844 ]\n",
      " [-0.23193763 -1.8107855 ]], shape=(3, 2), dtype=float32) tf.Tensor(\n",
      "[[ True  True]\n",
      " [ True  True]\n",
      " [ True  True]], shape=(3, 2), dtype=bool)\n"
     ]
    }
   ],
   "source": [
    "with tf.device('/cpu:0'):\n",
    "    random_1 = tf.random.Generator.from_seed(42)\n",
    "    random_1 = random_1.normal(shape=(3,2))\n",
    "    random_2 = tf.random.Generator.from_seed(42)\n",
    "    random_2 = random_2.normal(shape=(3,2))\n",
    "    print(random_1, random_2, random_1 == random_2)"
   ],
   "metadata": {
    "collapsed": false,
    "pycharm": {
     "name": "#%%\n"
    }
   }
  },
  {
   "cell_type": "code",
   "execution_count": 77,
   "outputs": [
    {
     "name": "stdout",
     "output_type": "stream",
     "text": [
      "tf.Tensor(\n",
      "[[ 1.314   -0.1542 ]\n",
      " [ 0.9116  -0.7993 ]\n",
      " [-0.10876  0.2844 ]], shape=(3, 2), dtype=float16) tf.Tensor(\n",
      "[[ 1.314   -0.1542 ]\n",
      " [ 0.9116  -0.7993 ]\n",
      " [-0.10876  0.2844 ]], shape=(3, 2), dtype=float16) tf.Tensor(\n",
      "[[ True  True]\n",
      " [ True  True]\n",
      " [ True  True]], shape=(3, 2), dtype=bool)\n"
     ]
    }
   ],
   "source": [
    "with tf.device('/cpu:0'):\n",
    "    tf.random.set_seed(42)\n",
    "    random_1 = tf.random.normal(shape=(3,2), mean=0.0, stddev=1.0, dtype=tf.float16, seed=42)\n",
    "    tf.random.set_seed(42)\n",
    "    random_2 = tf.random.normal(shape=(3,2), mean=0.0, stddev=1.0, dtype=tf.float16, seed=42)\n",
    "    print(random_1, random_2, random_1 == random_2)"
   ],
   "metadata": {
    "collapsed": false,
    "pycharm": {
     "name": "#%%\n"
    }
   }
  },
  {
   "cell_type": "markdown",
   "source": [
    "## Shuffling the order of the tensor randomly"
   ],
   "metadata": {
    "collapsed": false,
    "pycharm": {
     "name": "#%% md\n"
    }
   }
  },
  {
   "cell_type": "code",
   "execution_count": 78,
   "outputs": [],
   "source": [
    "t1 = tf.constant([[1, 2, 3],\n",
    "                  [4, 5, 6],\n",
    "                  [7, 8, 9],\n",
    "                  [10, 11, 12],\n",
    "                  [13, 14, 15],\n",
    "                  [16, 17, 18]])"
   ],
   "metadata": {
    "collapsed": false,
    "pycharm": {
     "name": "#%%\n"
    }
   }
  },
  {
   "cell_type": "code",
   "execution_count": 79,
   "outputs": [
    {
     "data": {
      "text/plain": "<tf.Tensor: shape=(6, 3), dtype=int32, numpy=\narray([[10, 11, 12],\n       [13, 14, 15],\n       [ 4,  5,  6],\n       [16, 17, 18],\n       [ 7,  8,  9],\n       [ 1,  2,  3]], dtype=int32)>"
     },
     "execution_count": 79,
     "metadata": {},
     "output_type": "execute_result"
    }
   ],
   "source": [
    "tf.random.set_seed(42)\n",
    "tf.random.shuffle(t1, seed=42)"
   ],
   "metadata": {
    "collapsed": false,
    "pycharm": {
     "name": "#%%\n"
    }
   }
  },
  {
   "cell_type": "code",
   "execution_count": 82,
   "outputs": [
    {
     "data": {
      "text/plain": "<tf.Tensor: shape=(6, 3), dtype=int32, numpy=\narray([[10, 11, 12],\n       [13, 14, 15],\n       [ 4,  5,  6],\n       [16, 17, 18],\n       [ 7,  8,  9],\n       [ 1,  2,  3]], dtype=int32)>"
     },
     "execution_count": 82,
     "metadata": {},
     "output_type": "execute_result"
    }
   ],
   "source": [
    "tf.random.set_seed(42)\n",
    "tf.random.shuffle(t1, seed=42)"
   ],
   "metadata": {
    "collapsed": false,
    "pycharm": {
     "name": "#%%\n"
    }
   }
  },
  {
   "cell_type": "markdown",
   "source": [
    "## Creating tensors from numpy array"
   ],
   "metadata": {
    "collapsed": false,
    "pycharm": {
     "name": "#%% md\n"
    }
   }
  },
  {
   "cell_type": "code",
   "execution_count": 83,
   "outputs": [
    {
     "data": {
      "text/plain": "array([ 1,  2,  3,  4,  5,  6,  7,  8,  9, 10, 11, 12, 13, 14, 15, 16, 17,\n       18, 19, 20, 21, 22, 23, 24], dtype=int32)"
     },
     "execution_count": 83,
     "metadata": {},
     "output_type": "execute_result"
    }
   ],
   "source": [
    "import numpy as np\n",
    "numpy_A = np.arange(1, 25, dtype=np.int32)\n",
    "numpy_A"
   ],
   "metadata": {
    "collapsed": false,
    "pycharm": {
     "name": "#%%\n"
    }
   }
  },
  {
   "cell_type": "code",
   "execution_count": null,
   "outputs": [],
   "source": [],
   "metadata": {
    "collapsed": false,
    "pycharm": {
     "name": "#%%\n"
    }
   }
  }
 ],
 "metadata": {
  "kernelspec": {
   "display_name": "Python 3",
   "language": "python",
   "name": "python3"
  },
  "language_info": {
   "codemirror_mode": {
    "name": "ipython",
    "version": 2
   },
   "file_extension": ".py",
   "mimetype": "text/x-python",
   "name": "python",
   "nbconvert_exporter": "python",
   "pygments_lexer": "ipython2",
   "version": "2.7.6"
  }
 },
 "nbformat": 4,
 "nbformat_minor": 0
}